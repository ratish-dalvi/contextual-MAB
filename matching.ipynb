{
 "cells": [
  {
   "cell_type": "markdown",
   "metadata": {
    "toc": true
   },
   "source": [
    "<h1>Table of Contents<span class=\"tocSkip\"></span></h1>\n",
    "<div class=\"toc\"><ul class=\"toc-item\"><li><span><a href=\"#Contextual-Multi-Armed-Bandits-with-Constraints\" data-toc-modified-id=\"Contextual-Multi-Armed-Bandits-with-Constraints-1\"><span class=\"toc-item-num\">1&nbsp;&nbsp;</span>Contextual Multi Armed Bandits with Constraints</a></span><ul class=\"toc-item\"><li><span><a href=\"#Matching-patients-to-providers\" data-toc-modified-id=\"Matching-patients-to-providers-1.1\"><span class=\"toc-item-num\">1.1&nbsp;&nbsp;</span>Matching patients to providers</a></span></li><li><span><a href=\"#Satisfying-Constraints-with-a-Perfect-Oracle\" data-toc-modified-id=\"Satisfying-Constraints-with-a-Perfect-Oracle-1.2\"><span class=\"toc-item-num\">1.2&nbsp;&nbsp;</span>Satisfying Constraints with a Perfect Oracle</a></span><ul class=\"toc-item\"><li><ul class=\"toc-item\"><li><span><a href=\"#Example:\" data-toc-modified-id=\"Example:-1.2.0.1\"><span class=\"toc-item-num\">1.2.0.1&nbsp;&nbsp;</span>Example:</a></span></li></ul></li><li><span><a href=\"#Linear-Optimization-without-Assignment\" data-toc-modified-id=\"Linear-Optimization-without-Assignment-1.2.1\"><span class=\"toc-item-num\">1.2.1&nbsp;&nbsp;</span>Linear Optimization without Assignment</a></span></li><li><span><a href=\"#Formulation\" data-toc-modified-id=\"Formulation-1.2.2\"><span class=\"toc-item-num\">1.2.2&nbsp;&nbsp;</span>Formulation</a></span><ul class=\"toc-item\"><li><span><a href=\"#Classic-Binary-Optimization\" data-toc-modified-id=\"Classic-Binary-Optimization-1.2.2.1\"><span class=\"toc-item-num\">1.2.2.1&nbsp;&nbsp;</span>Classic Binary Optimization</a></span></li><li><span><a href=\"#Linear-optimization-w/o-assignment\" data-toc-modified-id=\"Linear-optimization-w/o-assignment-1.2.2.2\"><span class=\"toc-item-num\">1.2.2.2&nbsp;&nbsp;</span>Linear optimization w/o assignment</a></span></li><li><span><a href=\"#Convert-quadratic-to-linear-using-a-trick-(Mccormick-Envelopes?)\" data-toc-modified-id=\"Convert-quadratic-to-linear-using-a-trick-(Mccormick-Envelopes?)-1.2.2.3\"><span class=\"toc-item-num\">1.2.2.3&nbsp;&nbsp;</span>Convert quadratic to linear using a trick (Mccormick Envelopes?)</a></span></li><li><span><a href=\"#Final-Formulation\" data-toc-modified-id=\"Final-Formulation-1.2.2.4\"><span class=\"toc-item-num\">1.2.2.4&nbsp;&nbsp;</span>Final Formulation</a></span></li></ul></li><li><span><a href=\"#Simulation\" data-toc-modified-id=\"Simulation-1.2.3\"><span class=\"toc-item-num\">1.2.3&nbsp;&nbsp;</span>Simulation</a></span><ul class=\"toc-item\"><li><span><a href=\"#Generate-dummy-data\" data-toc-modified-id=\"Generate-dummy-data-1.2.3.1\"><span class=\"toc-item-num\">1.2.3.1&nbsp;&nbsp;</span>Generate dummy data</a></span></li><li><span><a href=\"#Dummy-Data-with-maximums-and-minimums\" data-toc-modified-id=\"Dummy-Data-with-maximums-and-minimums-1.2.3.2\"><span class=\"toc-item-num\">1.2.3.2&nbsp;&nbsp;</span>Dummy Data with maximums and minimums</a></span></li><li><span><a href=\"#Optimization-function\" data-toc-modified-id=\"Optimization-function-1.2.3.3\"><span class=\"toc-item-num\">1.2.3.3&nbsp;&nbsp;</span>Optimization function</a></span></li><li><span><a href=\"#Run-Simulation\" data-toc-modified-id=\"Run-Simulation-1.2.3.4\"><span class=\"toc-item-num\">1.2.3.4&nbsp;&nbsp;</span>Run Simulation</a></span></li></ul></li><li><span><a href=\"#Lift-over-greedy-algorithm\" data-toc-modified-id=\"Lift-over-greedy-algorithm-1.2.4\"><span class=\"toc-item-num\">1.2.4&nbsp;&nbsp;</span>Lift over greedy algorithm</a></span><ul class=\"toc-item\"><li><span><a href=\"#Expected-number-of-appointments-of-the-linear-optimizer\" data-toc-modified-id=\"Expected-number-of-appointments-of-the-linear-optimizer-1.2.4.1\"><span class=\"toc-item-num\">1.2.4.1&nbsp;&nbsp;</span>Expected number of appointments of the linear optimizer</a></span></li><li><span><a href=\"#Expected-number-of-appointments-of-greedy-algorithm\" data-toc-modified-id=\"Expected-number-of-appointments-of-greedy-algorithm-1.2.4.2\"><span class=\"toc-item-num\">1.2.4.2&nbsp;&nbsp;</span>Expected number of appointments of greedy algorithm</a></span></li></ul></li><li><span><a href=\"#Test-on-unseen-data-with-noise\" data-toc-modified-id=\"Test-on-unseen-data-with-noise-1.2.5\"><span class=\"toc-item-num\">1.2.5&nbsp;&nbsp;</span>Test on unseen data with noise</a></span></li><li><span><a href=\"#Conclusion\" data-toc-modified-id=\"Conclusion-1.2.6\"><span class=\"toc-item-num\">1.2.6&nbsp;&nbsp;</span>Conclusion</a></span></li></ul></li></ul></li></ul></div>"
   ]
  },
  {
   "cell_type": "markdown",
   "metadata": {},
   "source": [
    "# Contextual Multi Armed Bandits with Constraints"
   ]
  },
  {
   "cell_type": "markdown",
   "metadata": {
    "ExecuteTime": {
     "end_time": "2022-01-13T21:19:16.315085Z",
     "start_time": "2022-01-13T21:19:16.303316Z"
    }
   },
   "source": [
    "Multi-armed bandits (MAB) is a classic formulation of the exploration versus exploitation problem - \n",
    "It is a hypothetical experiment where a bandit must choose between multiple slot machines,\n",
    "each with an unknown payout. More background on the problem can be found here: [1](https://en.wikipedia.org/wiki/Multi-armed_bandit), [2](https://lilianweng.github.io/lil-log/2018/01/23/the-multi-armed-bandit-problem-and-its-solutions.html)\n",
    "\n",
    "Contextual MAB is an extension of this approach where we factor in the bandit’s environment, or context, when choosing an action. For the scope of this problem, we are going to reduce the contextual bandit problem into a supervised learning problem, where an \"oracle\" takes into account the context and gives us a score that indicates the probability of success on the next action.\n",
    "\n"
   ]
  },
  {
   "cell_type": "markdown",
   "metadata": {},
   "source": [
    "## Matching Patients to Providers\n",
    "\n",
    "One real-world application of contextual MAB problem in healthcare is sending patient referrals to a network of mental health providers (MHPs). Let's consider a patient referral system that matches a new patient with the \"best\" available MHP. The system does not have access to real-time availability of the MHP, but it knows the number of new patients the MHP can generally take week over week. This is the maximum number of referrals a MHP can have (1). Similarly, the MHP expects a minimum number of referrals every week, to keep them engaged on the system, and that sets a minimum constraint on the number of referrals (2). \n",
    "When a patient is considered for a provider, there is a lot of information that could be used to make a successful match. Patients have conditions that they seek treatments for, and they might have preferences on gender, race, age, specialization etc of the provider. Similarly, the system has data on the provider's history in declining and scheduling referrals. This information containing patient's preferences and provider's history, constitutes the \"context\" for the problem (3). \n",
    "All three of these together make this use-case equivalent to a contextual MAB problem with minimum and maximum constraints:\n",
    "- A patient referral can be thought of as \"playing\" a machine; similarly, MHPs are slot machines. \n",
    "- The payout of a slot machine is equivalent to the inherent \"scheduling rate\" of a MHP. Scheduling rate of a MHP is the proportion of the received referrals scheduled for an appointment.\n",
    "- The inherent scheduling rate varies over time, but we will assume that it remains nearly the same if we manage to honor the maximum and minimum constraints. A MHP will remain happy if they get a minimum number of referrals each week, and not more than the maximum they want. If we don't honor the constraints, the MHP might become disengaged and stop accepting the referrals\n",
    "- New providers are on-boarded on the system often, which makes exploration a consistent part of the system. \n",
    "- Even though MHPs have an \"inherent\" scheduling rate, it is common for their rate to vary over time due to staffing changes, seasonal variation, business changes etc. \n",
    "\n",
    "Unlike the goal of a typical MAB problem, where the goal is to lower \"regret\", or the difference between an optimal solution and your solution, this system's goal is to optimize the total number of appointments scheduled by the system, across all MHPs.\n",
    "\n",
    "Referrals are sent out in real-time, which means we cannot do a batch assignment, and that makes this problem tricky."
   ]
  },
  {
   "cell_type": "markdown",
   "metadata": {},
   "source": [
    "## Satisfying Constraints with a Perfect Oracle\n",
    "\n",
    "For the scope of this solution, we are only going to focus on the constraint satisfaction problem. For simplicity, we assume an oracle that accurately predicts the likelihood of success if a patient is sent to a MHP. This oracle, in practice, is a well-calibrated supervised learning algorithm that predicts the odds that a referral will get scheduled if we send it to a given MHP. \n",
    "\n",
    "This formulation violates the standard MAB problem– where the focus is on minimizing regret. One might argue that this is not a classic MAB problem anymore;\n",
    "Before implementing this solution, we used the classic solution for the MAB problem of Thompson sampling [1](https://en.wikipedia.org/wiki/Thompson_sampling) that minimizes regret. However, we realized that minimizing regret is not an issue at all. On the contrary, we found that greedy algorithms that usually have higher regret bounds or no bound at all do just as well as Thompson sampling for this use-case, because recently onboarded MHPs are eager to schedule referrals; but as time passes, failure to maintain constraints leads to their dissatisfaction and a drop in their \"payout\" aka scheduling rate. Also, Thompson sampling does not allow us to put constraints on the MHPs. The oracle, which is a supervised learning algorithm, uses context for new MHPs to predict their success rate quite well, and it reduced our concern for exploration and regret.\n",
    "\n",
    "So, this problem can be simplified into the following:\n",
    "- A system consists of sending m referrals to n MHPs\n",
    "- An oracle gives likelihood for each referral-MHP pair\n",
    "– MHPs have an inherent/true scheduling rate\n",
    "- Each MHP has a maximum and minimum constraint on the number of referrals they can receive\n",
    "\n",
    "The simplest solution to this problem could be to use a greedy algorithm for sending a referral to a MHP. For any given referral, we will send it to the MHP with the highest payout, but then, there is no\n",
    "guarantee that it will satisfy the minimum and maximum constraints. Let's consider an example to understand the problem: \n",
    "\n",
    "#### Example:\n",
    "\n",
    "Let's consider a provider MHP1 which is nearing its maximum quota/cap, but is not full yet. Let's say we can only send them two more referrals this week, but they end up being the top pick for four referrals. How do we decide which two to send?\n",
    "\n",
    "Let's say the referrals, oracle scores, and MHPs look like this:\n",
    "    \n",
    "   |    |mhp1 | mhp2 | mhp3|\n",
    "   |----|-----|------|-----|\n",
    "   | r1 | 0.7 | 0.65 | 0.2 |\n",
    "   | r2 | 0.8 | 0.7  | 0.75|\n",
    "   | r3 | 0.9 | 0.2  | 0.1 |\n",
    "   | r4 | 0.7 | 0.24 | 0.3 |\n",
    "\n",
    "<b>Strategy 1 </b>\n",
    "\n",
    "We suspend the MHP after the quota is met - after the first two referrals in this case. \n",
    "That means: \n",
    "- r1 and r2 are sent to MHP1 and \n",
    "- r3 is sent to MHP2 \n",
    "- r4 is sent to MHP3\n",
    "    \n",
    "What are the expected number of appointments in this case? Assuming that the scores from the oracle are true probabilities.<br/>\n",
    "Expected number of appointments = 0.7 + 0.8 + 0.2 + 0.3 = 2\n",
    "\n",
    "<b>Strategy 2</b>\n",
    "\n",
    "- r3 and r4 appointments to mhp1 instead\n",
    "- r1 to mhp2\n",
    "- r2 to mhp3\n",
    "   \n",
    "Expected number of appointments = 0.65 + 0.75 + 0.9 + 0.7 = 3 <br/>\n",
    "So, a slightly different strategy resulted in one extra appointment in this group. This shows that a greedy approach might not be the best approach here.\n",
    "\n",
    "In this case, we can easily see which two referrals to route to MHP1 because we can see all the referrals. Unfortunately, in production, the referrals are sent in real-time, as they come, and we have no information about the future. So, when deciding for r1, we do not know about r2, r3 and r4. We still want to try and optimize the total number of appointments. But how?"
   ]
  },
  {
   "cell_type": "markdown",
   "metadata": {
    "ExecuteTime": {
     "end_time": "2022-01-14T04:17:22.225164Z",
     "start_time": "2022-01-14T04:17:22.218120Z"
    }
   },
   "source": [
    "### Linear Optimization without Assignment\n",
    "It is clear that we have reduced this to a standard linear optimization problem: it has an objective function (expected number of appointments), a cost function (scores) and constraints to satisfy. But there is one issue - we cannot send referrals in batches. They are sent in real-time as soon as a patient is received by the system.\n",
    "\n",
    "This means that we cannot do \"assignment\" like a typical linear optimization problem. This notebook describes a solution that using linear optimization for this problem without assignment by using score adjustments \n",
    "\n",
    "\n",
    "### Formulation\n",
    "\n",
    "#### Classic Binary Optimization\n",
    "\n",
    "Let's assume we could batch referrals, what would the solution look like?\n",
    "\n",
    "Let's say there are N MHPs, R referrals, this algorithm gives a probability score for each referral\n",
    "\n",
    "Volume caps: $V_{0}, V_{1}, V_{2} ... V_{N}$\n",
    "\n",
    "Boosting minimums $ B_{0}, B_{1}  ... B_{N}$ \n",
    "\n",
    "Let's consider the score matrix \n",
    "\n",
    "\n",
    "\n",
    "   | i\\j |mhp_0| mhp_1|mhp_N| ... |\n",
    "   |---- |-----|------|-----|-----|\n",
    "   | r0  | 0.7 | 0.64 | 0.1 | ... |\n",
    "   | r1  | 0.8 | 0.58  | 0.32| ... |\n",
    "   | r2  | 0.91 | 0.35 | 0.3 | ... |\n",
    "   | ... | ... | ...  | ... | ... |\n",
    "\n",
    "\n",
    "For example, $s_{01} = 0.64$ , $s_{22} = 0.35$ \n",
    "\n",
    "\n",
    "\n",
    "Assignment Matrix:\n",
    "\n",
    "   | i\\j |mhp_0| mhp_1|mhp_N| ... |\n",
    "   |---- |-----|------|-----|-----|\n",
    "   | r0  |  0  |   1  |  0  | ... |\n",
    "   | r1  |  1  |   0  |  0  | ... |\n",
    "   | r2  |  0  |   0  |  0  | ... |\n",
    "   | ... | ... | ...  | ... | ... |\n",
    "   \n",
    "<b>Formulation </b>:\n",
    "    \n",
    "$$ \\max_{a} \\sum \\sum a_{ij} s_{ij}$$\n",
    "\n",
    "    \n",
    "$$ \\sum_i a_{ij} < V_j  \\qquad \\forall  j $$\n",
    "\n",
    "$$ \\sum_i a_{ij} > B_j  \\qquad \\forall  j $$\n",
    "    \n",
    "$$ \\sum_j a_{ij} = 1  \\qquad \\forall  i $$\n",
    "    \n",
    "\n",
    "So far so good, but this formulation is not very useful because we cannot send referrals to providers in batches. In the absence of assignments, we use compute score adjustments, which are listed below: \n",
    "\n",
    "\n",
    "#### Linear optimization w/o assignment\n",
    "\n",
    "We force assignment to be on the maximum score per referral, which makes it a purely endogenous variable - as opposed to a decision variable. <br/>\n",
    "We introduce a new set of decision variables $P$ (for score adjustments) such that $P_j$ is the score adjustment (boost + or penalty -) for each MHP $M_j$\n",
    "\n",
    "\n",
    "   | j  |---> |      |     |     |\n",
    "   |----|-----|------|-----|-----|\n",
    "   | p  | 0.7 | 0.64 | 0.1 | ... |\n",
    "\n",
    "<b>Formulation </b>:\n",
    "\n",
    "$$ \\max_{a} \\sum \\sum a_{ij} s_{ij}$$\n",
    "\n",
    "    \n",
    "$$ \\sum_i a_{ij} < V_j  \\qquad \\forall  j $$\n",
    "    \n",
    "$$ \\sum_j a_{ij} = 1  \\qquad \\forall  i $$\n",
    "\n",
    "$$ s_{ij} + p_j \\leq \\sum_k a_{ik} (s_{ik} + p_k)  \\qquad \\forall  i \\forall  j $$\n",
    "\n",
    "\n",
    "There is a problem with the last equation. <br/>\n",
    "\n",
    "It is not linear!\n",
    "\n",
    "\n",
    "#### Convert Quadratic to Linear Using a Trick: McCormick Envelopes\n",
    "\n",
    "$ z = xy $ \n",
    "where x is binary and y is continuous\n",
    "\n",
    "$ L \\leq y \\leq U $ \n",
    "where L and U are bounds on y\n",
    "\n",
    "Then the following constraints will make it linear\n",
    "\n",
    "$$ z \\leq Ux$$\n",
    "$$ z \\geq Lx$$\n",
    "$$ z \\leq y - L(1-x) $$\n",
    "$$ z \\geq y - U(1-x) $$\n",
    "\n",
    "\n",
    "#### Final Formulation\n",
    "\n",
    "\n",
    "$$ \\max_{a} \\sum \\sum a_{ij} s_{ij} - (\\sum abs (p_{j})) $$\n",
    "\n",
    "    \n",
    "$$ \\sum_i a_{ij} < V_j  \\qquad \\forall  j $$\n",
    "    \n",
    "$$ \\sum_j a_{ij} = 1  \\qquad \\forall  i $$\n",
    "\n",
    "$$ s_{ij} + p_j \\leq \\sum_k a_{ik} s_{ik} + \\sum_k z_{ik}   \\qquad \\forall  i  \\forall  j$$\n",
    "\n",
    "\n",
    "$$ z_{ik} = a_{ik} p_k $$\n",
    "\n",
    "$$ -a_{ik} \\leq z_{ik} \\leq a_{ik} $$\n",
    "\n",
    "$$ p_k - (1 - a_{ik}) \\leq z_{ik} \\leq p_k + (1 - a_{ik}) $$\n",
    "\n",
    "\n",
    "That's it! <br/> Time to code ...\n"
   ]
  },
  {
   "cell_type": "code",
   "execution_count": 6,
   "metadata": {
    "ExecuteTime": {
     "end_time": "2022-01-14T08:28:51.688252Z",
     "start_time": "2022-01-14T08:28:47.091775Z"
    }
   },
   "outputs": [],
   "source": [
    "import os\n",
    "\n",
    "from scipy.stats import pearsonr as pearson_corr\n",
    "\n",
    "import numpy as np\n",
    "import pandas as pd \n",
    "import matplotlib\n",
    "import matplotlib.pyplot as plt\n",
    "\n",
    "import pulp\n",
    "from time import time\n",
    "import seaborn as sns\n",
    "from collections import namedtuple"
   ]
  },
  {
   "cell_type": "markdown",
   "metadata": {
    "ExecuteTime": {
     "end_time": "2022-01-14T04:30:01.352557Z",
     "start_time": "2022-01-14T04:30:01.350029Z"
    }
   },
   "source": [
    "### Simulation\n",
    "\n",
    "####  Generate Dummy Data"
   ]
  },
  {
   "cell_type": "code",
   "execution_count": 7,
   "metadata": {
    "ExecuteTime": {
     "end_time": "2022-01-14T08:28:51.831865Z",
     "start_time": "2022-01-14T08:28:51.690249Z"
    }
   },
   "outputs": [
    {
     "name": "stdout",
     "output_type": "stream",
     "text": [
      "Reviving row 91 containing all nans\n"
     ]
    },
    {
     "data": {
      "text/html": [
       "<div>\n",
       "<style scoped>\n",
       "    .dataframe tbody tr th:only-of-type {\n",
       "        vertical-align: middle;\n",
       "    }\n",
       "\n",
       "    .dataframe tbody tr th {\n",
       "        vertical-align: top;\n",
       "    }\n",
       "\n",
       "    .dataframe thead th {\n",
       "        text-align: right;\n",
       "    }\n",
       "</style>\n",
       "<table border=\"1\" class=\"dataframe\">\n",
       "  <thead>\n",
       "    <tr style=\"text-align: right;\">\n",
       "      <th></th>\n",
       "      <th>mhp_0</th>\n",
       "      <th>mhp_1</th>\n",
       "      <th>mhp_2</th>\n",
       "      <th>mhp_3</th>\n",
       "      <th>mhp_4</th>\n",
       "      <th>mhp_5</th>\n",
       "      <th>mhp_6</th>\n",
       "      <th>mhp_7</th>\n",
       "      <th>mhp_8</th>\n",
       "      <th>mhp_9</th>\n",
       "    </tr>\n",
       "  </thead>\n",
       "  <tbody>\n",
       "    <tr>\n",
       "      <th>0</th>\n",
       "      <td>0.574115</td>\n",
       "      <td>NaN</td>\n",
       "      <td>0.010000</td>\n",
       "      <td>NaN</td>\n",
       "      <td>NaN</td>\n",
       "      <td>NaN</td>\n",
       "      <td>0.533672</td>\n",
       "      <td>0.152357</td>\n",
       "      <td>NaN</td>\n",
       "      <td>0.894086</td>\n",
       "    </tr>\n",
       "    <tr>\n",
       "      <th>1</th>\n",
       "      <td>0.101615</td>\n",
       "      <td>0.385997</td>\n",
       "      <td>NaN</td>\n",
       "      <td>0.171004</td>\n",
       "      <td>0.522817</td>\n",
       "      <td>NaN</td>\n",
       "      <td>0.942419</td>\n",
       "      <td>0.809970</td>\n",
       "      <td>NaN</td>\n",
       "      <td>NaN</td>\n",
       "    </tr>\n",
       "    <tr>\n",
       "      <th>2</th>\n",
       "      <td>NaN</td>\n",
       "      <td>0.818606</td>\n",
       "      <td>0.570180</td>\n",
       "      <td>0.010000</td>\n",
       "      <td>0.333409</td>\n",
       "      <td>NaN</td>\n",
       "      <td>NaN</td>\n",
       "      <td>NaN</td>\n",
       "      <td>NaN</td>\n",
       "      <td>NaN</td>\n",
       "    </tr>\n",
       "    <tr>\n",
       "      <th>3</th>\n",
       "      <td>0.439010</td>\n",
       "      <td>0.745923</td>\n",
       "      <td>0.477705</td>\n",
       "      <td>0.370925</td>\n",
       "      <td>0.760345</td>\n",
       "      <td>NaN</td>\n",
       "      <td>NaN</td>\n",
       "      <td>0.205731</td>\n",
       "      <td>0.130833</td>\n",
       "      <td>NaN</td>\n",
       "    </tr>\n",
       "    <tr>\n",
       "      <th>4</th>\n",
       "      <td>0.227231</td>\n",
       "      <td>0.370353</td>\n",
       "      <td>NaN</td>\n",
       "      <td>0.006558</td>\n",
       "      <td>NaN</td>\n",
       "      <td>0.219439</td>\n",
       "      <td>1.000000</td>\n",
       "      <td>0.010000</td>\n",
       "      <td>NaN</td>\n",
       "      <td>NaN</td>\n",
       "    </tr>\n",
       "  </tbody>\n",
       "</table>\n",
       "</div>"
      ],
      "text/plain": [
       "      mhp_0     mhp_1     mhp_2     mhp_3     mhp_4     mhp_5     mhp_6  \\\n",
       "0  0.574115       NaN  0.010000       NaN       NaN       NaN  0.533672   \n",
       "1  0.101615  0.385997       NaN  0.171004  0.522817       NaN  0.942419   \n",
       "2       NaN  0.818606  0.570180  0.010000  0.333409       NaN       NaN   \n",
       "3  0.439010  0.745923  0.477705  0.370925  0.760345       NaN       NaN   \n",
       "4  0.227231  0.370353       NaN  0.006558       NaN  0.219439  1.000000   \n",
       "\n",
       "      mhp_7     mhp_8     mhp_9  \n",
       "0  0.152357       NaN  0.894086  \n",
       "1  0.809970       NaN       NaN  \n",
       "2       NaN       NaN       NaN  \n",
       "3  0.205731  0.130833       NaN  \n",
       "4  0.010000       NaN       NaN  "
      ]
     },
     "execution_count": 7,
     "metadata": {},
     "output_type": "execute_result"
    }
   ],
   "source": [
    "MIN_, MAX_ = 0, None\n",
    "MHP = namedtuple('MHP', ['name', 'mu', 'sigma', 'null_frac', 'maximum', 'minimum'])\n",
    "\n",
    "\n",
    "def generate_maximums(n_referrals, n_mhps):\n",
    "    mean_cap = int(n_referrals/(n_mhps)*0.6)\n",
    "    caps = np.random.normal(mean_cap, int(mean_cap/2), n_mhps)\n",
    "    caps = [int(max(10, x//5*5)) for x in caps]\n",
    "    caps[0] = MAX_  # first two providers are not capped\n",
    "    caps[1] = MAX_\n",
    "    return caps\n",
    "\n",
    "\n",
    "def generate_minimums(maximums, n_mhps):\n",
    "    # randomly pick providers to be boosted with about 50 % probability\n",
    "    boosted = (np.random.uniform(0, 1, n_mhps) > 0.5).astype(int)\n",
    "    mins = [int(maximums[i] / 2.0)//5*5 if (boosted[i] and maximums[i] is not None)\n",
    "            else 0 for i in range(n_mhps)]\n",
    "    mins[0] = None  # first two providers are hardcoded for control\n",
    "    mins[1] = 0\n",
    "    return mins\n",
    "    \n",
    "def generate_mhp_params(n_referrals, n_mhps):\n",
    "    # base scheduling rates \n",
    "    mus = np.random.uniform(0.1, 0.7, n_mhps)\n",
    "    sigmas = np.random.uniform(0.1, 0.4, n_mhps) # standard deviation for probability scores\n",
    "    null_frac = np.random.uniform(0.2, 0.7, n_mhps) # Number of nans\n",
    "    maximums = generate_maximums(n_referrals, n_mhps)\n",
    "    minimums = generate_minimums(maximums, n_mhps)\n",
    "    mhps = [MHP(\"mhp_%d\" % i, mus[i], sigmas[i], null_frac[i], maximums[i], minimums[i]) \n",
    "            for i in range(n_mhps)]                \n",
    "    return mhps\n",
    "\n",
    "def generate_referral_data(n_referrals, mhps):\n",
    "    n_mhps = len(mhps)\n",
    "    df = pd.DataFrame({\n",
    "        mhp.name: np.random.normal(mhp.mu, mhp.sigma, n_referrals) for mhp in mhps\n",
    "    })\n",
    "    # Introduce nulls because not all provideres are always eligible\n",
    "    for i, col in enumerate(df.columns):\n",
    "        frac = mhps[i].null_frac\n",
    "        df.loc[df.sample(frac=frac).index, col] = np.nan\n",
    "        \n",
    "    # If a row is completely empty (all nans), refill it with some positives\n",
    "    for i in range(len(df)):\n",
    "        if df.iloc[i].notnull().sum() == 0:\n",
    "            print(\"Reviving row %d containing all nans\" % i)\n",
    "            df.loc[i, \"mhp_%d\" % np.random.randint(n_mhps)] = np.random.uniform(0.2, 0.3)\n",
    "            \n",
    "    df[df < 0.0] = 0.01  # Replace negative values with a low value\n",
    "    df[df > 1] = 1.0  # Replace values greater than 1.0 with 1.0\n",
    "            \n",
    "    return df\n",
    "\n",
    "def generate_data(n_referrals, n_mhps):\n",
    "    mhps = generate_mhp_params(n_referrals, n_mhps)    \n",
    "    df = generate_referral_data(n_referrals, mhps)\n",
    "    return df, mhps\n",
    "\n",
    "\n",
    "df, mhps = generate_data(n_referrals=500, n_mhps=10)\n",
    "mhp_names = [mhp.name for mhp in mhps]\n",
    "\n",
    "df.head()"
   ]
  },
  {
   "cell_type": "markdown",
   "metadata": {},
   "source": [
    "#### Average number of referrals per MHP"
   ]
  },
  {
   "cell_type": "code",
   "execution_count": 4,
   "metadata": {},
   "outputs": [
    {
     "name": "stdout",
     "output_type": "stream",
     "text": [
      "count    500.00000\n",
      "mean       6.39000\n",
      "std        1.47045\n",
      "min        1.00000\n",
      "25%        5.00000\n",
      "50%        6.00000\n",
      "75%        7.00000\n",
      "max       10.00000\n",
      "dtype: float64\n"
     ]
    },
    {
     "data": {
      "text/plain": [
       "<AxesSubplot:ylabel='Density'>"
      ]
     },
     "execution_count": 4,
     "metadata": {},
     "output_type": "execute_result"
    },
    {
     "data": {
      "image/png": "[encoded data removed]",
      "text/plain": [
       "<Figure size 432x288 with 1 Axes>"
      ]
     },
     "metadata": {
      "needs_background": "light"
     },
     "output_type": "display_data"
    }
   ],
   "source": [
    "print(df.notnull().sum(axis=1).describe())\n",
    "df.notnull().sum(axis=1).plot.density()"
   ]
  },
  {
   "cell_type": "markdown",
   "metadata": {
    "ExecuteTime": {
     "end_time": "2022-01-14T04:30:58.650105Z",
     "start_time": "2022-01-14T04:30:58.647732Z"
    }
   },
   "source": [
    "####  Dummy Data with Maximums and Minimums\n",
    "\n",
    "In this section, we demonstrate the total referrals that an MHP would receive with a greedy strategy.\n",
    "- \"current_referrals\" is the count the MHP would get with greedy\n",
    "- \"minimum\" and \"maximums\" are the constraints set on them"
   ]
  },
  {
   "cell_type": "code",
   "execution_count": 5,
   "metadata": {
    "ExecuteTime": {
     "end_time": "2022-01-14T08:28:51.852729Z",
     "start_time": "2022-01-14T08:28:51.833991Z"
    }
   },
   "outputs": [
    {
     "data": {
      "text/html": [
       "<div>\n",
       "<style scoped>\n",
       "    .dataframe tbody tr th:only-of-type {\n",
       "        vertical-align: middle;\n",
       "    }\n",
       "\n",
       "    .dataframe tbody tr th {\n",
       "        vertical-align: top;\n",
       "    }\n",
       "\n",
       "    .dataframe thead th {\n",
       "        text-align: right;\n",
       "    }\n",
       "</style>\n",
       "<table border=\"1\" class=\"dataframe\">\n",
       "  <thead>\n",
       "    <tr style=\"text-align: right;\">\n",
       "      <th></th>\n",
       "      <th>mean</th>\n",
       "      <th>std_deviation</th>\n",
       "      <th>null_fraction</th>\n",
       "      <th>current_referrals</th>\n",
       "      <th>minimums</th>\n",
       "      <th>maximums</th>\n",
       "    </tr>\n",
       "  </thead>\n",
       "  <tbody>\n",
       "    <tr>\n",
       "      <th>mhp_0</th>\n",
       "      <td>0.65</td>\n",
       "      <td>0.19</td>\n",
       "      <td>0.24</td>\n",
       "      <td>137</td>\n",
       "      <td>NaN</td>\n",
       "      <td>NaN</td>\n",
       "    </tr>\n",
       "    <tr>\n",
       "      <th>mhp_1</th>\n",
       "      <td>0.46</td>\n",
       "      <td>0.23</td>\n",
       "      <td>0.36</td>\n",
       "      <td>47</td>\n",
       "      <td>0.0</td>\n",
       "      <td>NaN</td>\n",
       "    </tr>\n",
       "    <tr>\n",
       "      <th>mhp_2</th>\n",
       "      <td>0.63</td>\n",
       "      <td>0.23</td>\n",
       "      <td>0.23</td>\n",
       "      <td>118</td>\n",
       "      <td>5.0</td>\n",
       "      <td>10.0</td>\n",
       "    </tr>\n",
       "    <tr>\n",
       "      <th>mhp_3</th>\n",
       "      <td>0.42</td>\n",
       "      <td>0.19</td>\n",
       "      <td>0.22</td>\n",
       "      <td>25</td>\n",
       "      <td>0.0</td>\n",
       "      <td>30.0</td>\n",
       "    </tr>\n",
       "    <tr>\n",
       "      <th>mhp_4</th>\n",
       "      <td>0.44</td>\n",
       "      <td>0.17</td>\n",
       "      <td>0.44</td>\n",
       "      <td>18</td>\n",
       "      <td>0.0</td>\n",
       "      <td>30.0</td>\n",
       "    </tr>\n",
       "    <tr>\n",
       "      <th>mhp_5</th>\n",
       "      <td>0.26</td>\n",
       "      <td>0.24</td>\n",
       "      <td>0.38</td>\n",
       "      <td>12</td>\n",
       "      <td>25.0</td>\n",
       "      <td>50.0</td>\n",
       "    </tr>\n",
       "    <tr>\n",
       "      <th>mhp_6</th>\n",
       "      <td>0.33</td>\n",
       "      <td>0.18</td>\n",
       "      <td>0.62</td>\n",
       "      <td>6</td>\n",
       "      <td>0.0</td>\n",
       "      <td>45.0</td>\n",
       "    </tr>\n",
       "    <tr>\n",
       "      <th>mhp_7</th>\n",
       "      <td>0.50</td>\n",
       "      <td>0.11</td>\n",
       "      <td>0.25</td>\n",
       "      <td>25</td>\n",
       "      <td>5.0</td>\n",
       "      <td>10.0</td>\n",
       "    </tr>\n",
       "    <tr>\n",
       "      <th>mhp_8</th>\n",
       "      <td>0.51</td>\n",
       "      <td>0.30</td>\n",
       "      <td>0.68</td>\n",
       "      <td>40</td>\n",
       "      <td>0.0</td>\n",
       "      <td>15.0</td>\n",
       "    </tr>\n",
       "    <tr>\n",
       "      <th>mhp_9</th>\n",
       "      <td>0.41</td>\n",
       "      <td>0.31</td>\n",
       "      <td>0.20</td>\n",
       "      <td>72</td>\n",
       "      <td>0.0</td>\n",
       "      <td>25.0</td>\n",
       "    </tr>\n",
       "  </tbody>\n",
       "</table>\n",
       "</div>"
      ],
      "text/plain": [
       "       mean  std_deviation  null_fraction  current_referrals  minimums  \\\n",
       "mhp_0  0.65           0.19           0.24                137       NaN   \n",
       "mhp_1  0.46           0.23           0.36                 47       0.0   \n",
       "mhp_2  0.63           0.23           0.23                118       5.0   \n",
       "mhp_3  0.42           0.19           0.22                 25       0.0   \n",
       "mhp_4  0.44           0.17           0.44                 18       0.0   \n",
       "mhp_5  0.26           0.24           0.38                 12      25.0   \n",
       "mhp_6  0.33           0.18           0.62                  6       0.0   \n",
       "mhp_7  0.50           0.11           0.25                 25       5.0   \n",
       "mhp_8  0.51           0.30           0.68                 40       0.0   \n",
       "mhp_9  0.41           0.31           0.20                 72       0.0   \n",
       "\n",
       "       maximums  \n",
       "mhp_0       NaN  \n",
       "mhp_1       NaN  \n",
       "mhp_2      10.0  \n",
       "mhp_3      30.0  \n",
       "mhp_4      30.0  \n",
       "mhp_5      50.0  \n",
       "mhp_6      45.0  \n",
       "mhp_7      10.0  \n",
       "mhp_8      15.0  \n",
       "mhp_9      25.0  "
      ]
     },
     "execution_count": 5,
     "metadata": {},
     "output_type": "execute_result"
    }
   ],
   "source": [
    "def get_summary_df(df):\n",
    "    df_vol = pd.DataFrame({\n",
    "        \"mean\": df.mean().round(2),\n",
    "        \"std_deviation\": df.std().round(2),\n",
    "        \"null_fraction\": [mhp.null_frac.round(2) for mhp in mhps],\n",
    "        \"current_referrals\": df.idxmax(axis=1).value_counts(),\n",
    "        \"minimums\": [mhp.minimum for mhp in mhps],\n",
    "        \"maximums\": [mhp.maximum for mhp in mhps],\n",
    "        }, index=mhp_names)  # .fillna(0)\n",
    "\n",
    "    df_vol['current_referrals'] = df_vol.current_referrals.fillna(0).astype(int)\n",
    "    return df_vol\n",
    "\n",
    "get_summary_df(df)"
   ]
  },
  {
   "cell_type": "markdown",
   "metadata": {},
   "source": [
    "#### Optimization Function\n",
    "\n",
    "We use Pulp to code the optimizer formulated above."
   ]
  },
  {
   "cell_type": "code",
   "execution_count": 3,
   "metadata": {
    "ExecuteTime": {
     "end_time": "2022-01-14T08:28:51.919521Z",
     "start_time": "2022-01-14T08:28:51.854537Z"
    }
   },
   "outputs": [],
   "source": [
    "def run_linear_optimization(df, maximums, minimums):\n",
    "    N_REFERRALS, N_MHPS = df.shape\n",
    "    st = time()\n",
    "    \n",
    "    scores = df.values\n",
    "    prob = pulp.LpProblem(\"Network Optimization\", pulp.LpMaximize)\n",
    "\n",
    "    adjustment = pulp.LpVariable.dicts(\"adjustment\", range(N_MHPS), lowBound=-1, upBound=1, cat='Continuous')\n",
    "    adj_abs = pulp.LpVariable.dicts(\"adjustment_absolute\", range(N_MHPS), lowBound=0, upBound=1, cat='Continuous')\n",
    "    \n",
    "    z_dummy = pulp.LpVariable.dicts(\"z_dummy\", [(i, j) for i in range(N_REFERRALS) for j in range(N_MHPS)], -1, 1, cat='Continuous')\n",
    "\n",
    "    assignment = pulp.LpVariable.dicts(\"assignment\", [(i,j) for i in range(N_REFERRALS) for j in range(N_MHPS)], 0, 1, cat='Integer')\n",
    "\n",
    "    # The objective function is added to 'prob' first\n",
    "    prob += pulp.lpSum([assignment[i, j]*scores[i, j] for i in range(N_REFERRALS) for j in range(N_MHPS) if pd.notnull(scores[i, j])]) , \"expected_appts\"\n",
    "    \n",
    "    # Constraints\n",
    "    # 1. Only one MHP assignment per referral \n",
    "    for i in range(N_REFERRALS):\n",
    "        prob += pulp.lpSum([assignment[i, j] for j in range(N_MHPS) if pd.notnull(scores[i, j])]) == 1.0, \"assignment_sum_%d\" % i\n",
    "\n",
    "    # 2. Volume caps\n",
    "    for j in range(N_MHPS):\n",
    "        if pd.notnull(maximums[j]):\n",
    "            prob += pulp.lpSum([assignment[i, j] for i in range(N_REFERRALS) if pd.notnull(scores[i, j])]) <= maximums[j]\n",
    "        \n",
    "    # 3. Boosted mins\n",
    "    for j in range(N_MHPS):\n",
    "        n_referrals_for_mhp = (scores[:, j] >= 0).sum()\n",
    "        if pd.notnull(minimums[j]) and (n_referrals_for_mhp > 0):\n",
    "            # find the minimum referrals they are eligible for            \n",
    "            lower_bound = min(minimums[j], n_referrals_for_mhp)\n",
    "            if pd.notnull(maximums[j]):  # lower_bound should not be too close to upper bound\n",
    "                lower_bound = min(lower_bound, int(maximums[j]*0.7))\n",
    "            prob += pulp.lpSum([assignment[i, j] for i in range(N_REFERRALS) if pd.notnull(scores[i, j])]) >= lower_bound        \n",
    "\n",
    "    for j in range(N_MHPS):\n",
    "        # adjustment[j].setInitialValue(0)\n",
    "        if pd.isnull(minimums[j]):\n",
    "            adjustment[j].upBound = 0\n",
    "            \n",
    "        if pd.isnull(maximums[j]):\n",
    "            adjustment[j].lowBound = 0\n",
    "\n",
    "        # no constraints for MHPs without limits\n",
    "        if pd.isnull(minimums[j]) and pd.isnull(maximums[j]):\n",
    "            adj_abs[j].upBound = 0\n",
    "            adj_abs[j].lowBound = 0\n",
    "            \n",
    "    for i in range(N_REFERRALS):\n",
    "        for j in range(N_MHPS):\n",
    "            if pd.isnull(scores[i, j]):\n",
    "                assignment[i, j].lowBound = 0\n",
    "                assignment[i, j].upBound = 0\n",
    "                z_dummy[i, j].lowBound = 0\n",
    "                z_dummy[i, j].upBound = 0\n",
    "                \n",
    "            if pd.isnull(minimums[j]) and pd.isnull(maximums[j]): # no constraints for MHPs without limits\n",
    "                z_dummy[i, j].lowBound = 0\n",
    "                z_dummy[i, j].upBound = 0\n",
    "                \n",
    "    # 4. Assignment should only happen to the maximum score after applying the adjustment\n",
    "    for i in range(N_REFERRALS):\n",
    "                 \n",
    "        # Trick to turn quadratic (assignment * adjustment) into Linear\n",
    "        for k in range(N_MHPS): \n",
    "            U = 1  # 0 if minimums[k] is None else 1\n",
    "            L = -1 # 0 if maximums[k] is None else -1\n",
    "            \n",
    "            if pd.isnull(scores[i, k]):\n",
    "                continue\n",
    "            if pd.isnull(minimums[k]) and pd.isnull(maximums[k]): # no constraints for MHPs without limits\n",
    "                continue               \n",
    "                \n",
    "            prob += z_dummy[i, k] <= U * assignment[i, k]\n",
    "            prob += z_dummy[i, k] >= L * assignment[i, k]\n",
    "            prob += z_dummy[i, k] <= adjustment[k] - L *(1 - assignment[i, k])\n",
    "            prob += z_dummy[i, k] >= adjustment[k] - U * (1 - assignment[i, k])\n",
    "\n",
    "        for j in range(N_MHPS):                \n",
    "            # <= (pulp.lpSum([assignment[i, k] * (scores[i, k] + adjustment[j]) for k in range(N_MHPS)]) \n",
    "            # Ideally you want this ^ , but it is quadratic, so introducing a dummy variable z_dummy\n",
    "            if pd.isnull(scores[i, j]):\n",
    "                continue\n",
    "            prob += (scores[i, j] + adjustment[j]) <= (pulp.lpSum([assignment[i, k] * scores[i, k] \n",
    "                                                                   for k in range(N_MHPS) if pd.notnull(scores[i, k])]) +\n",
    "                                                       pulp.lpSum([z_dummy[i, k] for k in range(N_MHPS)]))\n",
    "            \n",
    "    \n",
    "    for j in range(N_MHPS):\n",
    "        prob += adjustment[j] <= adj_abs[j]\n",
    "        prob += -adjustment[j] <= adj_abs[j]\n",
    "\n",
    "    print(\"Optimization Initialized in %.2f seconds\" % (time() - st))\n",
    "    print(\"Running solver ...\")\n",
    "    pulp.list_solvers(onlyAvailable=True)\n",
    "    prob.solve(pulp.PULP_CBC_CMD(gapRel=0.1, timeLimit=600))\n",
    "    # prob.solve(pulp.PULP_CBC_CMD(timeLimit=10, msg=1, gapRel=0.1, logPath=\"/tmp/pulp.log\"))\n",
    "    # prob.solve(pulp.CPLEX_PY())\n",
    "    print(\"Solver status:\", pulp.LpStatus[prob.status])\n",
    "    print(\"Solver status:\", (pulp.LpStatus[prob.status] == 'Optimal'))\n",
    "\n",
    "    print(\"Total time: %.2f seconds\" % (time() - st))\n",
    "    print(\"Value of objective: %.2f\" % pulp.value(prob.objective))\n",
    "    print(\"Maximum possible objective: %d\" % df.max(axis=1).sum())\n",
    "    print(\"Proportion of maximum: %.2f\" % (pulp.value(prob.objective) / df.max(axis=1).sum()))\n",
    "   \n",
    "    columns = df.columns.to_list()\n",
    "    adjustment = pd.Series({columns[j]: adjustment[j].varValue for j in range(N_MHPS)})\n",
    "    return adjustment, assignment\n"
   ]
  },
  {
   "cell_type": "markdown",
   "metadata": {},
   "source": [
    "#### Run Simulation\n",
    "\n",
    "Let's send the referral data through the optimizer and look at the results"
   ]
  },
  {
   "cell_type": "code",
   "execution_count": 5,
   "metadata": {
    "ExecuteTime": {
     "end_time": "2022-01-14T08:30:19.315780Z",
     "start_time": "2022-01-14T08:28:51.921171Z"
    }
   },
   "outputs": [
    {
     "ename": "NameError",
     "evalue": "name 'df' is not defined",
     "output_type": "error",
     "traceback": [
      "\u001b[0;31m---------------------------------------------------------------------------\u001b[0m",
      "\u001b[0;31mNameError\u001b[0m                                 Traceback (most recent call last)",
      "\u001b[0;32m<ipython-input-5-4635c879d8fe>\u001b[0m in \u001b[0;36m<module>\u001b[0;34m\u001b[0m\n\u001b[1;32m     35\u001b[0m     \u001b[0;31m# df_vol[['minimums', 'maximums', 'current_referrals', 'new_referrals_using_assignment', 'adjustment']]\u001b[0m\u001b[0;34m\u001b[0m\u001b[0;34m\u001b[0m\u001b[0;34m\u001b[0m\u001b[0m\n\u001b[1;32m     36\u001b[0m \u001b[0;34m\u001b[0m\u001b[0m\n\u001b[0;32m---> 37\u001b[0;31m \u001b[0mdf_results\u001b[0m \u001b[0;34m=\u001b[0m \u001b[0mrun_simulation\u001b[0m\u001b[0;34m(\u001b[0m\u001b[0mdf\u001b[0m\u001b[0;34m,\u001b[0m \u001b[0mmhps\u001b[0m\u001b[0;34m)\u001b[0m\u001b[0;34m\u001b[0m\u001b[0;34m\u001b[0m\u001b[0m\n\u001b[0m",
      "\u001b[0;31mNameError\u001b[0m: name 'df' is not defined"
     ]
    }
   ],
   "source": [
    "def run_simulation(df, mhps):\n",
    "    n_referrals, n_mhps = df.shape\n",
    "    minimums = [mhp.minimum for mhp in mhps]\n",
    "    maximums = [mhp.maximum for mhp in mhps]\n",
    "    \n",
    "    adjustment, assignment = run_linear_optimization(df, maximums, minimums)\n",
    "    assign = [mhps[j].name  for i in range(n_referrals) for j in range(n_mhps) if assignment[i, j].varValue == 1]\n",
    "    assigned_score = [df.loc[i, mhps[j].name] \n",
    "                      for i in range(n_referrals) for j in range(n_mhps) if assignment[i, j].varValue == 1]\n",
    "    \n",
    "    df_results = get_summary_df(df)    \n",
    "    df_results[\"new_referrals_using_assignment\"] = pd.value_counts(assign)\n",
    "    df_results['adjustment'] = adjustment\n",
    "    \n",
    "    df_new = df.copy(deep=True)\n",
    "    for i in range(n_mhps):\n",
    "        col = mhps[i].name\n",
    "        df_new[col] = (df_new[col] + adjustment[i])\n",
    "        \n",
    "    # df_results['new_referrals_using_adjustment'] = df_new.idxmax(axis=1).value_counts()\n",
    "    exp_appts_by_adjustment = 0\n",
    "    for i in range(n_referrals):\n",
    "        idxmax_adjusted = df_new.idxmax(axis=1).loc[i]\n",
    "        exp_appts_by_adjustment += df.loc[i, idxmax_adjusted]           \n",
    "                   \n",
    "    print(\"\\nExpected appointments by assignment: %d\" % sum(assigned_score))\n",
    "    print(\"Expected appointments by adjustment: %d\" % exp_appts_by_adjustment)\n",
    "    \n",
    "    # Note - the new counts of referrals using adjustment should be exactly the same\n",
    "    # as the counts with assignment (decision variable), because assignment of a referral \n",
    "    # happens to the MHP with maximum `score + adjustment` for the given referral\n",
    "\n",
    "\n",
    "    # df_vol['new_referrals_using_adjustment'] = df_new.idxmax(axis=1).value_counts()\n",
    "    # df_vol[['minimums', 'maximums', 'current_referrals', 'new_referrals_using_assignment', 'adjustment']]\n",
    "\n",
    "df_results = run_simulation(df, mhps)"
   ]
  },
  {
   "cell_type": "code",
   "execution_count": 96,
   "metadata": {},
   "outputs": [],
   "source": [
    "df_results"
   ]
  },
  {
   "cell_type": "markdown",
   "metadata": {},
   "source": [
    "*The optimizer works !*\n",
    "\n",
    "As we can see here, the best MHPs (high scheduling rate) got a lot of referrals, and were maxed out when possible.\n",
    "On the other hand, the MHPs with the lowest scheduling rate did not get many referrals."
   ]
  },
  {
   "cell_type": "markdown",
   "metadata": {},
   "source": [
    "### Lift Over Greedy Algorithm"
   ]
  },
  {
   "cell_type": "markdown",
   "metadata": {
    "ExecuteTime": {
     "end_time": "2022-01-14T05:08:15.801087Z",
     "start_time": "2022-01-14T05:08:15.790634Z"
    }
   },
   "source": [
    "#### Expected Number of Appointments of the Linear Optimizer"
   ]
  },
  {
   "cell_type": "code",
   "execution_count": 97,
   "metadata": {
    "ExecuteTime": {
     "end_time": "2022-01-14T08:30:19.751707Z",
     "start_time": "2022-01-14T08:30:19.332924Z"
    }
   },
   "outputs": [
    {
     "ename": "NameError",
     "evalue": "name 'N_MHPS' is not defined",
     "output_type": "error",
     "traceback": [
      "\u001b[0;31m---------------------------------------------------------------------------\u001b[0m",
      "\u001b[0;31mNameError\u001b[0m                                 Traceback (most recent call last)",
      "\u001b[0;32m<ipython-input-97-f211699ea28c>\u001b[0m in \u001b[0;36m<module>\u001b[0;34m\u001b[0m\n\u001b[1;32m     17\u001b[0m     \u001b[0;32mreturn\u001b[0m \u001b[0mmhp_counts\u001b[0m\u001b[0;34m\u001b[0m\u001b[0;34m\u001b[0m\u001b[0m\n\u001b[1;32m     18\u001b[0m \u001b[0;34m\u001b[0m\u001b[0m\n\u001b[0;32m---> 19\u001b[0;31m \u001b[0m_\u001b[0m \u001b[0;34m=\u001b[0m \u001b[0mget_expected_appts_linop\u001b[0m\u001b[0;34m(\u001b[0m\u001b[0mdf\u001b[0m\u001b[0;34m)\u001b[0m\u001b[0;34m\u001b[0m\u001b[0;34m\u001b[0m\u001b[0m\n\u001b[0m",
      "\u001b[0;32m<ipython-input-97-f211699ea28c>\u001b[0m in \u001b[0;36mget_expected_appts_linop\u001b[0;34m(df)\u001b[0m\n\u001b[1;32m      2\u001b[0m     \u001b[0mdf_new\u001b[0m \u001b[0;34m=\u001b[0m \u001b[0mdf\u001b[0m\u001b[0;34m.\u001b[0m\u001b[0mcopy\u001b[0m\u001b[0;34m(\u001b[0m\u001b[0mdeep\u001b[0m\u001b[0;34m=\u001b[0m\u001b[0;32mTrue\u001b[0m\u001b[0;34m)\u001b[0m\u001b[0;34m\u001b[0m\u001b[0;34m\u001b[0m\u001b[0m\n\u001b[1;32m      3\u001b[0m \u001b[0;34m\u001b[0m\u001b[0m\n\u001b[0;32m----> 4\u001b[0;31m     \u001b[0;32mfor\u001b[0m \u001b[0mi\u001b[0m \u001b[0;32min\u001b[0m \u001b[0mrange\u001b[0m\u001b[0;34m(\u001b[0m\u001b[0mN_MHPS\u001b[0m\u001b[0;34m)\u001b[0m\u001b[0;34m:\u001b[0m\u001b[0;34m\u001b[0m\u001b[0;34m\u001b[0m\u001b[0m\n\u001b[0m\u001b[1;32m      5\u001b[0m         \u001b[0mcc\u001b[0m \u001b[0;34m=\u001b[0m \u001b[0;34m\"mhp_%d\"\u001b[0m \u001b[0;34m%\u001b[0m \u001b[0mi\u001b[0m\u001b[0;34m\u001b[0m\u001b[0;34m\u001b[0m\u001b[0m\n\u001b[1;32m      6\u001b[0m         \u001b[0mdf_new\u001b[0m\u001b[0;34m[\u001b[0m\u001b[0mcc\u001b[0m\u001b[0;34m]\u001b[0m \u001b[0;34m=\u001b[0m \u001b[0;34m(\u001b[0m\u001b[0mdf_new\u001b[0m\u001b[0;34m[\u001b[0m\u001b[0mcc\u001b[0m\u001b[0;34m]\u001b[0m \u001b[0;34m+\u001b[0m \u001b[0mdf_vol\u001b[0m\u001b[0;34m[\u001b[0m\u001b[0;34m'adjustment'\u001b[0m\u001b[0;34m]\u001b[0m\u001b[0;34m.\u001b[0m\u001b[0miloc\u001b[0m\u001b[0;34m[\u001b[0m\u001b[0mi\u001b[0m\u001b[0;34m]\u001b[0m\u001b[0;34m)\u001b[0m\u001b[0;34m\u001b[0m\u001b[0;34m\u001b[0m\u001b[0m\n",
      "\u001b[0;31mNameError\u001b[0m: name 'N_MHPS' is not defined"
     ]
    }
   ],
   "source": [
    "def get_expected_appts_linop(df):\n",
    "    df_new = df.copy(deep=True)\n",
    "\n",
    "    for i in range(N_MHPS):\n",
    "        cc = \"mhp_%d\" % i\n",
    "        df_new[cc] = (df_new[cc] + df_vol['adjustment'].iloc[i])\n",
    "\n",
    "    expected_appts = 0\n",
    "    for i in range(N_REFERRALS):\n",
    "        row = df_new.iloc[i]\n",
    "        best_mhp = row.idxmax()\n",
    "        best_score = df.loc[i, best_mhp]  # Note - this is the original df\n",
    "        expected_appts += best_score\n",
    "        \n",
    "    print(\"Expected number of appointments Linop: %d\" % expected_appts)\n",
    "    mhp_counts = df_new.idxmax(axis=1).value_counts()\n",
    "    return mhp_counts\n",
    "    \n",
    "_ = get_expected_appts_linop(df)"
   ]
  },
  {
   "cell_type": "markdown",
   "metadata": {
    "ExecuteTime": {
     "end_time": "2022-01-14T05:11:46.535996Z",
     "start_time": "2022-01-14T05:11:46.533595Z"
    }
   },
   "source": [
    "#### Expected Number of Appointments in Greedy Algorithm"
   ]
  },
  {
   "cell_type": "code",
   "execution_count": null,
   "metadata": {
    "ExecuteTime": {
     "end_time": "2022-01-14T08:30:20.232683Z",
     "start_time": "2022-01-14T08:30:19.753272Z"
    }
   },
   "outputs": [],
   "source": [
    "def get_expected_appts_greedy(df):\n",
    "    df_new = df.copy(deep=True)\n",
    "\n",
    "    referral_counts = {\"mhp_%d\" % i: 0 for i in range(N_MHPS)}\n",
    "    expected_appts = 0\n",
    "    greedy_assignments = []\n",
    "    overdraft = 0\n",
    "    for i in range(N_REFERRALS):        \n",
    "        row = df_new.iloc[i]\n",
    "        best_mhp = row.idxmax()\n",
    "        if pd.isnull(best_mhp):  # No MHPs available\n",
    "            best_mhp = df.iloc[i].idxmax()  # original df\n",
    "            best_score = df.loc[i, best_mhp]  # original df\n",
    "        else:\n",
    "            best_score = df_new.loc[i, best_mhp]\n",
    "\n",
    "        referral_counts[best_mhp] += 1  # maximum cannot be zero                \n",
    "        expected_appts += best_score\n",
    "        greedy_assignments.append(best_mhp)\n",
    "        max_for_best_mhp = df_vol.maximums.loc[best_mhp]\n",
    "        \n",
    "        if (best_mhp in df_new.columns.tolist()) and \\\n",
    "            referral_counts[best_mhp] >= max_for_best_mhp:\n",
    "            del df_new[best_mhp]   # MHP maxed out, remove it \n",
    "        \n",
    "\n",
    "    print(\"Expected number of appointments Greedy: %d\" % expected_appts)\n",
    "    print(\"Expected number of maximum possible appointments: %d\" % df.max(axis=1).sum())\n",
    "    mhp_counts = pd.Series(greedy_assignments).value_counts()\n",
    "    return mhp_counts\n",
    "    \n",
    "_ = get_expected_appts_greedy(df)"
   ]
  },
  {
   "cell_type": "markdown",
   "metadata": {
    "ExecuteTime": {
     "end_time": "2022-01-14T06:48:48.108055Z",
     "start_time": "2022-01-14T06:48:48.105591Z"
    }
   },
   "source": [
    "### Test on Unseen Data with Noise"
   ]
  },
  {
   "cell_type": "code",
   "execution_count": null,
   "metadata": {
    "ExecuteTime": {
     "end_time": "2022-01-14T08:32:20.703352Z",
     "start_time": "2022-01-14T08:32:19.881911Z"
    }
   },
   "outputs": [],
   "source": [
    "noise_mu = 0\n",
    "noise_sigma1 = 0.001\n",
    "noise_sigma2 = 0.001\n",
    "\n",
    "mhp_mu_new = [x + np.random.normal(noise_mu, noise_sigma1) for x in mhp_mu]\n",
    "mhp_sigma_new = [x + np.random.normal(noise_mu, noise_sigma2) for x in mhp_sigma]\n",
    "\n",
    "df_test = generate_referral_data(mhp_mu_new, mhp_sigma_new)\n",
    "linop_counts = get_expected_appts_linop(df_test)\n",
    "greedy_counts = get_expected_appts_greedy(df_test)\n",
    "\n",
    "df_test_vol = pd.DataFrame({\n",
    "    \"mean_score\": df.mean().round(2),\n",
    "    \"std_dev_score\": df.std().round(2),\n",
    "    \"current_referrals\": df.idxmax(axis=1).value_counts(),\n",
    "    \"minimums\": minimums,\n",
    "    \"maximums\": maximums,\n",
    "    }, index=mhp_names)  # .fillna(0)\n",
    "\n",
    "df_test_vol['current_referrals'] = df_vol.current_referrals.fillna(0).astype(int)\n",
    "df_test_vol['linop_counts'] = linop_counts\n",
    "df_test_vol['greedy_counts'] = greedy_counts\n",
    "\n",
    "x = (df_test_vol['linop_counts'] - df_test_vol.maximums) \n",
    "print(\"Overdraft linop: %.2f\" % x[x>0].sum())\n",
    "\n",
    "x = (df_test_vol['greedy_counts'] - df_test_vol.maximums) \n",
    "print(\"Overdraft greedy: %.2f\" % x[x>0].sum())"
   ]
  },
  {
   "cell_type": "markdown",
   "metadata": {
    "ExecuteTime": {
     "end_time": "2022-01-14T07:25:47.706783Z",
     "start_time": "2022-01-14T07:25:47.704545Z"
    }
   },
   "source": [
    "### Conclusion\n",
    "\n",
    "**The linear optimization solution not only has a higher number of appointments than greedy, but also a lower overdraft**. \n",
    "We are counting the score of overdrafted referrals towards the expected number of appointments, which is not true in practice. The greedy algorithm has 707 referrals with 192 overdrafted. Since overdrafted referrals have a high chance of rejection, the actual number of appointments is much lower. If we assume the chance of success for an overdrafted referral to be zero, the total appointments for greedy would be about 600, compared to ~700 for linear optimizer, giving over 15% improvement.\n",
    "\n",
    "**This demo was limited to maximum constraints, where we could demonstrate a comparison to a greedy algorithm.\n",
    "When we turn on minimum constraints, the linear optimizer gives even better results than greedy**\n",
    "\n",
    "Accross many trials of this experiment, linear optimizer consistently performs better."
   ]
  },
  {
   "cell_type": "code",
   "execution_count": null,
   "metadata": {},
   "outputs": [],
   "source": []
  }
 ],
 "metadata": {
  "hide_input": false,
  "kernelspec": {
   "display_name": "Python 3",
   "language": "python",
   "name": "python3"
  },
  "language_info": {
   "codemirror_mode": {
    "name": "ipython",
    "version": 3
   },
   "file_extension": ".py",
   "mimetype": "text/x-python",
   "name": "python",
   "nbconvert_exporter": "python",
   "pygments_lexer": "ipython3",
   "version": "3.8.8"
  },
  "toc": {
   "base_numbering": 1,
   "nav_menu": {},
   "number_sections": true,
   "sideBar": true,
   "skip_h1_title": false,
   "title_cell": "Table of Contents",
   "title_sidebar": "Contents",
   "toc_cell": true,
   "toc_position": {},
   "toc_section_display": true,
   "toc_window_display": true
  }
 },
 "nbformat": 4,
 "nbformat_minor": 4
}
